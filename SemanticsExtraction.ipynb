{
  "nbformat": 4,
  "nbformat_minor": 0,
  "metadata": {
    "colab": {
      "name": "SemanticsExtraction.ipynb",
      "provenance": [],
      "collapsed_sections": []
    },
    "kernelspec": {
      "name": "python3",
      "display_name": "Python 3"
    },
    "language_info": {
      "name": "python"
    },
    "accelerator": "GPU"
  },
  "cells": [
    {
      "cell_type": "markdown",
      "source": [
        "# Mount Drive"
      ],
      "metadata": {
        "id": "u3SN9em_pxrj"
      }
    },
    {
      "cell_type": "code",
      "source": [
        "from google.colab import drive\n",
        "drive.mount('/content/drive')\n",
        "\n",
        "import os\n",
        "os.chdir('/content/drive/MyDrive/ProgettoTS')"
      ],
      "metadata": {
        "id": "HaV_OkqppuaL"
      },
      "execution_count": null,
      "outputs": []
    },
    {
      "cell_type": "markdown",
      "source": [
        "# Setup and Requirements\n",
        "\n"
      ],
      "metadata": {
        "id": "MujbyCLDrIYV"
      }
    },
    {
      "cell_type": "code",
      "source": [
        "#Do it only first time!\n",
        "!wget https://nlp.stanford.edu/software/stanford-corenlp-full-2018-10-05.zip\n",
        "!unzip stanford-corenlp-full-2018-10-05.zip"
      ],
      "metadata": {
        "id": "JslOqvwYyppC"
      },
      "execution_count": null,
      "outputs": []
    },
    {
      "cell_type": "code",
      "source": [
        "!pip install stanza\n",
        "!pip install textacy\n",
        "!pip install spacy\n",
        "!python -m spacy download en_core_web_sm\n",
        "#NLTK Installation\n",
        "import nltk\n",
        "nltk.download('all')\n",
        "!pip install word2number\n",
        "!pip install rdflib\n",
        "!pip install SPARQLWrapper"
      ],
      "metadata": {
        "id": "0MPhB07CNUAm"
      },
      "execution_count": null,
      "outputs": []
    },
    {
      "cell_type": "code",
      "source": [
        "import os\n",
        "os.environ[\"CORENLP_HOME\"] = '/content/drive/MyDrive/ProgettoTS/stanford-corenlp-full-2018-10-05'"
      ],
      "metadata": {
        "id": "A9FpAU3iyhld"
      },
      "execution_count": null,
      "outputs": []
    },
    {
      "cell_type": "markdown",
      "metadata": {
        "id": "dkjmmPY9DmoF"
      },
      "source": [
        "# Reading the input file"
      ]
    },
    {
      "cell_type": "markdown",
      "source": [
        "To upload file from your local drive:"
      ],
      "metadata": {
        "id": "2GjOqKKo4NYH"
      }
    },
    {
      "cell_type": "code",
      "source": [
        "from google.colab import files\n",
        "def load_file_locale():\n",
        "  uploaded = files.upload()\n",
        "  for name, data in uploaded.items():\n",
        "    filename = name\n",
        "\n",
        "  input_f = open(filename, 'r')\n",
        "  text = input_f.read()\n",
        "  input_f.close()\n",
        "  return text"
      ],
      "metadata": {
        "id": "UgUwjal84MTS"
      },
      "execution_count": null,
      "outputs": []
    },
    {
      "cell_type": "markdown",
      "source": [
        "To upload file from your google drive '`ProgettoTS/content`' folder:"
      ],
      "metadata": {
        "id": "Sx8oXVng4uVq"
      }
    },
    {
      "cell_type": "code",
      "source": [
        "%cd /content/drive/MyDrive/ProgettoTS"
      ],
      "metadata": {
        "id": "2i1AFKo0yrkv"
      },
      "execution_count": null,
      "outputs": []
    },
    {
      "cell_type": "code",
      "source": [
        "def load_from_colab():\n",
        "  # Read the input file\n",
        "  k= input(\"Insert n. file: \")\n",
        "  #all files in 'ProgettoTS/content' folder are likely exampleX.txt\n",
        "  example1 = \"content/example\"+str(k)+\".txt\"\n",
        "  # Open file \n",
        "  with open(example1, \"r\") as file:\n",
        "      text = file.read()  #file content\n",
        "  print(example1, \"uploaded!\")\n",
        "  return text"
      ],
      "metadata": {
        "id": "HO8lXJzcpWZF"
      },
      "execution_count": null,
      "outputs": []
    },
    {
      "cell_type": "code",
      "source": [
        "text=load_file_locale()\n",
        "#text=load_from_colab()"
      ],
      "metadata": {
        "colab": {
          "base_uri": "https://localhost:8080/",
          "resources": {
            "http://localhost:8080/nbextensions/google.colab/files.js": {
              "data": "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",
              "ok": true,
              "headers": [
                [
                  "content-type",
                  "application/javascript"
                ]
              ],
              "status": 200,
              "status_text": ""
            }
          },
          "height": 73
        },
        "id": "OAiK99vh2Eeh",
        "outputId": "fb1e0698-17fe-4db3-889e-c1b1b62cdc4c"
      },
      "execution_count": null,
      "outputs": [
        {
          "output_type": "display_data",
          "data": {
            "text/html": [
              "\n",
              "     <input type=\"file\" id=\"files-a68d9b08-2f80-490c-a756-cb13fc68ddcb\" name=\"files[]\" multiple disabled\n",
              "        style=\"border:none\" />\n",
              "     <output id=\"result-a68d9b08-2f80-490c-a756-cb13fc68ddcb\">\n",
              "      Upload widget is only available when the cell has been executed in the\n",
              "      current browser session. Please rerun this cell to enable.\n",
              "      </output>\n",
              "      <script src=\"/nbextensions/google.colab/files.js\"></script> "
            ],
            "text/plain": [
              "<IPython.core.display.HTML object>"
            ]
          },
          "metadata": {}
        },
        {
          "output_type": "stream",
          "name": "stdout",
          "text": [
            "Saving HP-Wikipedia.txt to HP-Wikipedia.txt\n"
          ]
        }
      ]
    },
    {
      "cell_type": "code",
      "source": [
        "\n",
        "def remove_special_characters(text):\n",
        "  import re\n",
        "  # Create a regex pattern to match all characters except letter or number\n",
        "  pattern = r'[^A-Za-z0-9.,?!;:']+'\n",
        "  # Remove special characters from the string\n",
        "  text = re.sub(pattern, ' ', text)\n",
        "  return text\n",
        "  '''text = text.replace(\"-\", \" \")\n",
        "  text = text.replace(\"(\", \",\")\n",
        "  text = text.replace(\")\", \",\")\n",
        "  text = text.replace(\"[\", \",\")\n",
        "  text = text.replace(\"]\", \",\")\n",
        "  text = text.replace(\"{\", \",\")\n",
        "\n",
        "  return text\n",
        "  '''\n",
        "\n",
        "text=remove_special_characters(text)\n",
        "print(text)"
      ],
      "metadata": {
        "id": "mBRMe1AF7eWf"
      },
      "execution_count": null,
      "outputs": []
    },
    {
      "cell_type": "markdown",
      "source": [
        "Inizialization of the client"
      ],
      "metadata": {
        "id": "rrh0JKpk1oBK"
      }
    },
    {
      "cell_type": "code",
      "source": [
        "%cd stanford-corenlp-full-2018-10-05"
      ],
      "metadata": {
        "id": "vjXVixGrKoGM"
      },
      "execution_count": null,
      "outputs": []
    },
    {
      "cell_type": "code",
      "source": [
        "import stanza\n",
        "# Import client module\n",
        "from stanza.server import CoreNLPClient\n",
        "\n",
        "client = CoreNLPClient(timeout=1500000000000, be_quiet=True, annotators=['openie'], \n",
        "endpoint='http://localhost:8100')\n",
        "client.start()\n",
        "import time\n",
        "time.sleep(10)\n",
        "document = client.annotate(text, properties={\"annotators\":\"tokenize,ssplit,pos,depparse,natlog,openie\",\n",
        "                                 \"outputFormat\": \"json\",\"openie.triple.strict\":\"true\"})"
      ],
      "metadata": {
        "id": "MPhjDJTuy5Pq"
      },
      "execution_count": null,
      "outputs": []
    },
    {
      "cell_type": "markdown",
      "source": [
        "# Triples extraction "
      ],
      "metadata": {
        "id": "w5dqcEEMyarF"
      }
    },
    {
      "cell_type": "code",
      "source": [
        "\n",
        "triples = []\n",
        "for sentence in document['sentences']:\n",
        "  for triple in sentence['openie']:\n",
        "    try:\n",
        "      triples.append({\n",
        "          'subject': triple['subject'],\n",
        "          'relation': triple['relation'],\n",
        "          'object': triple['object']\n",
        "      })\n",
        "    except:\n",
        "      pass\n"
      ],
      "metadata": {
        "id": "1RmpitqrTt01"
      },
      "execution_count": null,
      "outputs": []
    },
    {
      "cell_type": "code",
      "source": [
        "#Printing triples\n",
        "for tripla in triples:\n",
        "  print(tripla)"
      ],
      "metadata": {
        "id": "AlSvYFeiaAi5"
      },
      "execution_count": null,
      "outputs": []
    },
    {
      "cell_type": "code",
      "source": [
        "#contracted forms\n",
        "contractions = {\n",
        "\"'m\": \"am\",\n",
        "\"aren't\": \"are not\",\n",
        "\"can't\": \"cannot\",\n",
        "\"can't've\": \"cannot have\",\n",
        "\"could've\": \"could have\",\n",
        "\"couldn't\": \"could not\",\n",
        "\"couldn't've\": \"could not have\",\n",
        "\"didn't\": \"did not\",\n",
        "\"doesn't\": \"does not\",\n",
        "\"don't\": \"do not\",\n",
        "\"hadn't\": \"had not\",\n",
        "\"hadn't've\": \"had not have\",\n",
        "\"hasn't\": \"has not\",\n",
        "\"haven't\": \"have not\",\n",
        "\"'d\": \"had\",\n",
        "\"'s\": \"is\",\n",
        "\"will've\": \"have\",\n",
        "\"'ve\":\"have\",\n",
        "\"'ll 've\":\"have\",\n",
        "\"'ll be\":\"be\"\n",
        "}"
      ],
      "metadata": {
        "id": "zk7xFxZdqGJ9"
      },
      "execution_count": null,
      "outputs": []
    },
    {
      "cell_type": "code",
      "source": [
        "from nltk.tokenize import word_tokenize\n",
        "from word2number import w2n\n",
        "def dbpedia_query(entity):\n",
        "  sparql = SPARQLWrapper('https://dbpedia.org/sparql')\n",
        "\n",
        "  sparql.setQuery( \"SELECT * WHERE { ?entity rdfs:label \\\"\"+ entity.capitalize()+\"\\\"@en }\")\n",
        "  sparql.setReturnFormat(JSON)\n",
        "  qres = sparql.query().convert()\n",
        "  try:\n",
        "    result = qres['results']['bindings'][0]\n",
        "    link = result['entity']['value']\n",
        "  except:\n",
        "    link=[]\n",
        "    try:\n",
        "      entities= word_tokenize(entity)\n",
        "      for ent in entities:\n",
        "        try:\n",
        "          ent=w2n(ent)\n",
        "        except:\n",
        "          pass\n",
        "        sparql.setQuery( \"SELECT * WHERE { ?entity rdfs:label \\\"\"+ ent.capitalize()+\"\\\"@en }\")\n",
        "        sparql.setReturnFormat(JSON)\n",
        "        qres = sparql.query().convert()\n",
        "        result = qres['results']['bindings'][0]\n",
        "        link.append(result['entity']['value'])\n",
        "    except:\n",
        "      pass\n",
        "  return link\n"
      ],
      "metadata": {
        "id": "RrQitvHWORmy"
      },
      "execution_count": null,
      "outputs": []
    },
    {
      "cell_type": "code",
      "source": [
        "from nltk.util import print_string\n",
        "import textacy\n",
        "from nltk.stem import WordNetLemmatizer\n",
        "lemmatizer = WordNetLemmatizer()\n",
        "from nltk.corpus import wordnet\n",
        "from rdflib import Graph\n",
        "from SPARQLWrapper import SPARQLWrapper, JSON, N3\n",
        "from pprint import pprint\n",
        "\n",
        "f = open(\"output.txt\", \"w\")\n",
        "verbPattern = [{\"POS\": \"VERB\", \"OP\": \"*\"},{\"POS\": \"ADV\", \"OP\": \"*\"},{\"POS\": \"VERB\", \"OP\": \"+\"},{\"POS\": \"PART\", \"OP\": \"*\"}]\n",
        "\n",
        "counter=0\n",
        "for tripla in triples:\n",
        "  counter+=1\n",
        "  f.write(\"Triple n°\"+ str(counter)+ ' - '+ str(tripla)+\"\\n\\n\")\n",
        "  print(\"Triple n°\"+ str(counter)+ ' - '+ str(tripla)+\"\\n\")\n",
        "\n",
        "  ###SUBJECT\n",
        "  f.write('Subject: '+ str(tripla['subject']) +' - '+ str(dbpedia_query(tripla['subject']))+\"\\n\\n\")\n",
        "  print('Subject: '+ str(tripla['subject']) +' - '+ str(dbpedia_query(tripla['subject']))+\"\\n\")\n",
        "  ###RELATION\n",
        "  if tripla['relation'] in contractions:\n",
        "    tripla['relation']=contractions[tripla['relation']] \n",
        "  lemma = lemmatizer.lemmatize(tripla['relation'], pos=wordnet.VERB)\n",
        "\n",
        "  sentence_doc = textacy.make_spacy_doc(tripla['relation'], lang='en_core_web_sm')\n",
        "  verb_phrases = list(textacy.extract.matches.token_matches(sentence_doc, verbPattern))\n",
        "  for chunk in verb_phrases:\n",
        "    lemma = lemmatizer.lemmatize(chunk.text, pos=wordnet.VERB)\n",
        "    try:\n",
        "      syn = wordnet.synsets(lemma,pos=wordnet.VERB)[0].definition()\n",
        "      f.write(\"Relation: \"+ str(lemma) +' - '+ str(syn)+\"\\n\\n\")\n",
        "      print(\"Relation: \"+ str(lemma) +' - '+ str(syn)+\"\\n\")\n",
        "    except:\n",
        "      f.write(\"Relation: \"+ str(lemma)+ \"No definition found!\"+\"\\n\\n\")\n",
        "      print(\"Relation: \"+ str(lemma)+ \"No definition found!\"+\"\\n\")\n",
        "  if lemma==\"be\":\n",
        "    syn = wordnet.synsets(lemma,pos=wordnet.VERB)[0].definition()\n",
        "    f.write(\"Relation: \"+ str(lemma)+' - '+ str(syn)+\"\\n\\n\")\n",
        "    print(\"Relation: \"+ str(lemma)+' - '+ str(syn)+\"\\n\")\n",
        "  ###OBJECT\n",
        "  f.write('Object: '+ str(tripla['object']) +' - '+ str(dbpedia_query(tripla['object']))+\"\\n\\n\")\n",
        "  print('Object: '+ str(tripla['object']) +' - '+ str(dbpedia_query(tripla['object']))+\"\\n\")\n",
        "  f.write(\"-------------------------------------------------------------------------------------------------------------------------------\\n\\n\")\n",
        "  print(\"-------------------------------------------------------------------------------------------------------------------------------\\n\")\n",
        "\n",
        "\n",
        "f.close()\n"
      ],
      "metadata": {
        "id": "TpiE5fJxWSCx"
      },
      "execution_count": null,
      "outputs": []
    }
  ]
}