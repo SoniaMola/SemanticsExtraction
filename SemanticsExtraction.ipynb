{
  "nbformat": 4,
  "nbformat_minor": 0,
  "metadata": {
    "colab": {
      "name": "SemanticsExtraction.ipynb",
      "provenance": [],
      "collapsed_sections": []
    },
    "kernelspec": {
      "name": "python3",
      "display_name": "Python 3"
    },
    "language_info": {
      "name": "python"
    },
    "accelerator": "GPU"
  },
  "cells": [
    {
      "cell_type": "markdown",
      "source": [
        "# Mount Drive"
      ],
      "metadata": {
        "id": "u3SN9em_pxrj"
      }
    },
    {
      "cell_type": "code",
      "source": [
        "from google.colab import drive\n",
        "drive.mount('/content/drive')\n",
        "\n",
        "import os\n",
        "os.chdir('/content/drive/MyDrive/ProgettoTS')"
      ],
      "metadata": {
        "id": "HaV_OkqppuaL",
        "colab": {
          "base_uri": "https://localhost:8080/"
        },
        "outputId": "7b8cd865-1eeb-4bff-cb84-3fdba739cf4d"
      },
      "execution_count": null,
      "outputs": [
        {
          "output_type": "stream",
          "name": "stdout",
          "text": [
            "Mounted at /content/drive\n"
          ]
        }
      ]
    },
    {
      "cell_type": "markdown",
      "source": [
        "# Setup and Requirements\n",
        "\n"
      ],
      "metadata": {
        "id": "MujbyCLDrIYV"
      }
    },
    {
      "cell_type": "code",
      "source": [
        "#Do it only first time!\n",
        "!wget https://nlp.stanford.edu/software/stanford-corenlp-full-2018-10-05.zip\n",
        "!unzip stanford-corenlp-full-2018-10-05.zip"
      ],
      "metadata": {
        "id": "JslOqvwYyppC"
      },
      "execution_count": null,
      "outputs": []
    },
    {
      "cell_type": "code",
      "source": [
        "!pip install stanza\n",
        "!pip install textacy\n",
        "!pip install spacy\n",
        "!python -m spacy download en_core_web_sm\n",
        "#NLTK Installation\n",
        "import nltk\n",
        "nltk.download('all')\n",
        "!pip install word2number\n",
        "!pip install rdflib\n",
        "!pip install SPARQLWrapper"
      ],
      "metadata": {
        "id": "0MPhB07CNUAm"
      },
      "execution_count": null,
      "outputs": []
    },
    {
      "cell_type": "code",
      "source": [
        "import os\n",
        "os.environ[\"CORENLP_HOME\"] = '/content/drive/MyDrive/ProgettoTS/stanford-corenlp-full-2018-10-05'"
      ],
      "metadata": {
        "id": "A9FpAU3iyhld"
      },
      "execution_count": null,
      "outputs": []
    },
    {
      "cell_type": "markdown",
      "metadata": {
        "id": "dkjmmPY9DmoF"
      },
      "source": [
        "# Reading the input file"
      ]
    },
    {
      "cell_type": "markdown",
      "source": [
        "To upload file from your local drive:"
      ],
      "metadata": {
        "id": "2GjOqKKo4NYH"
      }
    },
    {
      "cell_type": "code",
      "source": [
        "from google.colab import files\n",
        "def load_file_locale():\n",
        "  uploaded = files.upload()\n",
        "  for name, data in uploaded.items():\n",
        "    filename = name\n",
        "\n",
        "  input_f = open(filename, 'r')\n",
        "  text = input_f.read()\n",
        "  input_f.close()\n",
        "  return text"
      ],
      "metadata": {
        "id": "UgUwjal84MTS"
      },
      "execution_count": null,
      "outputs": []
    },
    {
      "cell_type": "markdown",
      "source": [
        "To upload file from your google drive '`ProgettoTS/content`' folder:"
      ],
      "metadata": {
        "id": "Sx8oXVng4uVq"
      }
    },
    {
      "cell_type": "code",
      "source": [
        "%cd /content/drive/MyDrive/ProgettoTS"
      ],
      "metadata": {
        "id": "2i1AFKo0yrkv",
        "colab": {
          "base_uri": "https://localhost:8080/"
        },
        "outputId": "1b8cc8e4-0a49-4dc4-d295-e6d745816a04"
      },
      "execution_count": null,
      "outputs": [
        {
          "output_type": "stream",
          "name": "stdout",
          "text": [
            "/content/drive/.shortcut-targets-by-id/1OhbJiDjKXmlCLStsfCOyS1xyuPNIPYrL/ProgettoTS\n"
          ]
        }
      ]
    },
    {
      "cell_type": "code",
      "source": [
        "def load_from_colab():\n",
        "  # Read the input file\n",
        "  k= input(\"Insert n. file: \")\n",
        "  #all files in 'ProgettoTS/content' folder are likely exampleX.txt\n",
        "  example1 = \"content/example\"+str(k)+\".txt\"\n",
        "  # Open file \n",
        "  with open(example1, \"r\") as file:\n",
        "      text = file.read()  #file content\n",
        "  print(example1, \"uploaded!\")\n",
        "  return text"
      ],
      "metadata": {
        "id": "HO8lXJzcpWZF"
      },
      "execution_count": null,
      "outputs": []
    },
    {
      "cell_type": "code",
      "source": [
        "\n",
        "text=load_file_locale()\n",
        "\n",
        "#Se decommenti la riga successiva scrivi 1 o 2 nella barra che ti uscirà. Sono i file utilizzati durante lo sviluppo del progetto\n",
        "#text=load_from_colab()\n"
      ],
      "metadata": {
        "colab": {
          "base_uri": "https://localhost:8080/",
          "height": 87
        },
        "id": "OAiK99vh2Eeh",
        "outputId": "21239e1c-44ed-4ad6-e087-372f9766599f"
      },
      "execution_count": null,
      "outputs": [
        {
          "output_type": "stream",
          "name": "stdout",
          "text": [
            "Insert n. file: 2\n",
            "content/example2.txt uploaded!\n"
          ]
        },
        {
          "output_type": "execute_result",
          "data": {
            "application/vnd.google.colaboratory.intrinsic+json": {
              "type": "string"
            },
            "text/plain": [
              "'\\nSe decommenti la seguente sezione scrivi 1 o 2 nella barra che ti uscirà. Sono i file utilizzati durante lo sviluppo del progetto\\n#text=load_from_colab()\\n'"
            ]
          },
          "metadata": {},
          "execution_count": 8
        }
      ]
    },
    {
      "cell_type": "code",
      "source": [
        "print(text)"
      ],
      "metadata": {
        "colab": {
          "base_uri": "https://localhost:8080/"
        },
        "id": "x_pes0cR8CfA",
        "outputId": "e0fc3a9c-44a8-40da-85ae-ad1fbe740952"
      },
      "execution_count": null,
      "outputs": [
        {
          "output_type": "stream",
          "name": "stdout",
          "text": [
            "Daniel Radcliffe was born at Queen Charlotte's and Chelsea Hospital in Hammersmith, London, England on 23 July 1989, the only child of Marcia Jeannine Gresham and literary agent Alan George Radcliffe. His Jewish mother was born in South Africa, traced her ancestry to Jewish immigrants from Germany, Lithuania, Poland, and Russia, and was raised in the English town of Westcliff-on-Sea. \n"
          ]
        }
      ]
    },
    {
      "cell_type": "code",
      "source": [
        "\n",
        "def remove_special_characters(text):\n",
        "  import re\n",
        "  # Create a regex pattern to match all characters except letter or number\n",
        "  pattern = r\"[^A-Za-z0-9.,?!;:']+\"\n",
        "  # Remove special characters from the string\n",
        "  text = re.sub(pattern, ' ', text)\n",
        "  return text\n",
        "\n",
        "text=remove_special_characters(text)\n",
        "print(text)"
      ],
      "metadata": {
        "id": "mBRMe1AF7eWf",
        "colab": {
          "base_uri": "https://localhost:8080/"
        },
        "outputId": "f6fe4c11-f0ae-44d6-b1bd-85ed875b3252"
      },
      "execution_count": null,
      "outputs": [
        {
          "output_type": "stream",
          "name": "stdout",
          "text": [
            "Daniel Radcliffe was born at Queen Charlotte's and Chelsea Hospital in Hammersmith, London, England on 23 July 1989, the only child of Marcia Jeannine Gresham and literary agent Alan George Radcliffe. His Jewish mother was born in South Africa, traced her ancestry to Jewish immigrants from Germany, Lithuania, Poland, and Russia, and was raised in the English town of Westcliff on Sea. \n"
          ]
        }
      ]
    },
    {
      "cell_type": "markdown",
      "source": [
        "Inizialization of the client"
      ],
      "metadata": {
        "id": "rrh0JKpk1oBK"
      }
    },
    {
      "cell_type": "code",
      "source": [
        "%cd stanford-corenlp-full-2018-10-05"
      ],
      "metadata": {
        "id": "vjXVixGrKoGM",
        "colab": {
          "base_uri": "https://localhost:8080/"
        },
        "outputId": "dbcbf4a8-7174-4b51-fee4-de6e3e8f99f6"
      },
      "execution_count": null,
      "outputs": [
        {
          "output_type": "stream",
          "name": "stdout",
          "text": [
            "/content/drive/.shortcut-targets-by-id/1OhbJiDjKXmlCLStsfCOyS1xyuPNIPYrL/ProgettoTS/stanford-corenlp-full-2018-10-05\n"
          ]
        }
      ]
    },
    {
      "cell_type": "code",
      "source": [
        "import stanza\n",
        "# Import client module\n",
        "from stanza.server import CoreNLPClient\n",
        "\n",
        "client = CoreNLPClient(timeout=1500000000000, be_quiet=True, annotators=['openie'], \n",
        "endpoint='http://localhost:8100')\n",
        "client.start()\n",
        "import time\n",
        "time.sleep(10)\n",
        "document = client.annotate(text, properties={\"annotators\":\"tokenize,ssplit,pos,depparse,natlog,openie\",\n",
        "                                 \"outputFormat\": \"json\",\"openie.triple.strict\":\"true\"})"
      ],
      "metadata": {
        "id": "MPhjDJTuy5Pq",
        "colab": {
          "base_uri": "https://localhost:8080/"
        },
        "outputId": "d5d9b220-f735-4c41-9d67-7787956052c3"
      },
      "execution_count": null,
      "outputs": [
        {
          "output_type": "stream",
          "name": "stderr",
          "text": [
            "2022-02-26 16:30:47 INFO: Writing properties to tmp file: corenlp_server-2857319608b34d9f.props\n",
            "2022-02-26 16:30:47 INFO: Starting server with command: java -Xmx5G -cp /content/drive/MyDrive/ProgettoTS/stanford-corenlp-full-2018-10-05/* edu.stanford.nlp.pipeline.StanfordCoreNLPServer -port 8100 -timeout 1500000000000 -threads 5 -maxCharLength 100000 -quiet True -serverProperties corenlp_server-2857319608b34d9f.props -annotators openie -preload -outputFormat serialized\n"
          ]
        }
      ]
    },
    {
      "cell_type": "markdown",
      "source": [
        "# Triples extraction "
      ],
      "metadata": {
        "id": "w5dqcEEMyarF"
      }
    },
    {
      "cell_type": "code",
      "source": [
        "\n",
        "triples = []\n",
        "for sentence in document['sentences']:\n",
        "  for triple in sentence['openie']:\n",
        "    try:\n",
        "      triples.append({\n",
        "          'subject': triple['subject'],\n",
        "          'relation': triple['relation'],\n",
        "          'object': triple['object']\n",
        "      })\n",
        "    except:\n",
        "      pass\n"
      ],
      "metadata": {
        "id": "1RmpitqrTt01"
      },
      "execution_count": null,
      "outputs": []
    },
    {
      "cell_type": "code",
      "source": [
        "#Printing triples\n",
        "for tripla in triples:\n",
        "  print(tripla)"
      ],
      "metadata": {
        "id": "AlSvYFeiaAi5",
        "colab": {
          "base_uri": "https://localhost:8080/"
        },
        "outputId": "abc48324-93ec-4904-efea-c6facdb307c5"
      },
      "execution_count": null,
      "outputs": [
        {
          "output_type": "stream",
          "name": "stdout",
          "text": [
            "{'subject': '23 July 1989', 'relation': 'child of', 'object': 'Marcia Jeannine Gresham'}\n",
            "{'subject': 'Daniel Radcliffe', 'relation': 'was', 'object': \"born at Queen Charlotte 's in Hammersmith\"}\n",
            "{'subject': 'Daniel Radcliffe', 'relation': 'was born in', 'object': 'England'}\n",
            "{'subject': 'Daniel Radcliffe', 'relation': 'was born in', 'object': 'Hammersmith'}\n",
            "{'subject': 'Hammersmith', 'relation': 'England on', 'object': '23 July 1989'}\n",
            "{'subject': 'Daniel Radcliffe', 'relation': 'was', 'object': 'born'}\n",
            "{'subject': 'Daniel Radcliffe', 'relation': 'was born in', 'object': 'London'}\n",
            "{'subject': 'Daniel Radcliffe', 'relation': 'was born in', 'object': 'England on 23 July 1989'}\n",
            "{'subject': 'Daniel Radcliffe', 'relation': 'was born at', 'object': 'at Queen Charlotte'}\n",
            "{'subject': 'His Jewish mother', 'relation': 'was', 'object': 'born'}\n",
            "{'subject': 'His mother', 'relation': 'was raised in', 'object': 'town'}\n",
            "{'subject': 'His mother', 'relation': 'was raised in', 'object': 'town of Westcliff'}\n",
            "{'subject': 'His mother', 'relation': 'was raised in', 'object': 'English town of Westcliff on Sea'}\n",
            "{'subject': 'His Jewish mother', 'relation': 'traced', 'object': 'her ancestry'}\n",
            "{'subject': 'His mother', 'relation': 'was born in', 'object': 'South Africa'}\n",
            "{'subject': 'His Jewish mother', 'relation': 'was raised in', 'object': 'town'}\n",
            "{'subject': 'His Jewish mother', 'relation': 'was raised in', 'object': 'English town of Westcliff on Sea'}\n",
            "{'subject': 'His mother', 'relation': 'was raised in', 'object': 'town on Sea'}\n",
            "{'subject': 'His mother', 'relation': 'was raised in', 'object': 'town of Westcliff on Sea'}\n",
            "{'subject': 'His Jewish mother', 'relation': 'was born in', 'object': 'South Africa'}\n",
            "{'subject': 'His Jewish mother', 'relation': 'was raised in', 'object': 'English town'}\n",
            "{'subject': 'His Jewish mother', 'relation': 'was raised in', 'object': 'town of Westcliff on Sea'}\n",
            "{'subject': 'His Jewish mother', 'relation': 'was raised in', 'object': 'English town on Sea'}\n",
            "{'subject': 'His mother', 'relation': 'was', 'object': 'born'}\n",
            "{'subject': 'His Jewish mother', 'relation': 'was', 'object': 'raised'}\n",
            "{'subject': 'His Jewish mother', 'relation': 'was raised in', 'object': 'town on Sea'}\n",
            "{'subject': 'His Jewish mother', 'relation': 'was raised in', 'object': 'English town of Westcliff'}\n",
            "{'subject': 'His Jewish mother', 'relation': 'was raised in', 'object': 'town of Westcliff'}\n",
            "{'subject': 'His mother', 'relation': 'was raised in', 'object': 'English town on Sea'}\n",
            "{'subject': 'His mother', 'relation': 'traced', 'object': 'her ancestry'}\n",
            "{'subject': 'His mother', 'relation': 'was raised in', 'object': 'English town'}\n",
            "{'subject': 'His mother', 'relation': 'was raised in', 'object': 'English town of Westcliff'}\n",
            "{'subject': 'His mother', 'relation': 'was', 'object': 'raised'}\n"
          ]
        }
      ]
    },
    {
      "cell_type": "code",
      "source": [
        "#contracted forms\n",
        "contractions = {\n",
        "\"'m\": \"am\",\n",
        "\"aren't\": \"are not\",\n",
        "\"can't\": \"cannot\",\n",
        "\"can't've\": \"cannot have\",\n",
        "\"could've\": \"could have\",\n",
        "\"couldn't\": \"could not\",\n",
        "\"couldn't've\": \"could not have\",\n",
        "\"didn't\": \"did not\",\n",
        "\"doesn't\": \"does not\",\n",
        "\"don't\": \"do not\",\n",
        "\"hadn't\": \"had not\",\n",
        "\"hadn't've\": \"had not have\",\n",
        "\"hasn't\": \"has not\",\n",
        "\"haven't\": \"have not\",\n",
        "\"'d\": \"had\",\n",
        "\"'s\": \"is\",\n",
        "\"will've\": \"have\",\n",
        "\"'ve\":\"have\",\n",
        "\"'ll 've\":\"have\",\n",
        "\"'ll be\":\"be\"\n",
        "}"
      ],
      "metadata": {
        "id": "zk7xFxZdqGJ9"
      },
      "execution_count": null,
      "outputs": []
    },
    {
      "cell_type": "code",
      "source": [
        "from nltk.tokenize import word_tokenize\n",
        "from word2number import w2n\n",
        "def dbpedia_query(entity):\n",
        "  sparql = SPARQLWrapper('https://dbpedia.org/sparql')\n",
        "\n",
        "  sparql.setQuery( \"SELECT * WHERE { ?entity rdfs:label \\\"\"+ entity.capitalize()+\"\\\"@en }\")\n",
        "  sparql.setReturnFormat(JSON)\n",
        "  qres = sparql.query().convert()\n",
        "  try:\n",
        "    result = qres['results']['bindings'][0]\n",
        "    link = result['entity']['value']\n",
        "  except:\n",
        "    link=[]\n",
        "    try:\n",
        "      entities= word_tokenize(entity)\n",
        "      for ent in entities:\n",
        "        try:\n",
        "          ent=w2n(ent)\n",
        "        except:\n",
        "          pass\n",
        "        sparql.setQuery( \"SELECT * WHERE { ?entity rdfs:label \\\"\"+ ent.capitalize()+\"\\\"@en }\")\n",
        "        sparql.setReturnFormat(JSON)\n",
        "        qres = sparql.query().convert()\n",
        "        result = qres['results']['bindings'][0]\n",
        "        link.append(result['entity']['value'])\n",
        "    except:\n",
        "      pass\n",
        "  return link\n"
      ],
      "metadata": {
        "id": "RrQitvHWORmy"
      },
      "execution_count": null,
      "outputs": []
    },
    {
      "cell_type": "code",
      "source": [
        "from nltk.util import print_string\n",
        "import textacy\n",
        "from nltk.stem import WordNetLemmatizer\n",
        "lemmatizer = WordNetLemmatizer()\n",
        "from nltk.corpus import wordnet\n",
        "from rdflib import Graph\n",
        "from SPARQLWrapper import SPARQLWrapper, JSON, N3\n",
        "from pprint import pprint\n",
        "\n",
        "f = open(\"output.txt\", \"w\")\n",
        "verbPattern = [{\"POS\": \"VERB\", \"OP\": \"*\"},{\"POS\": \"ADV\", \"OP\": \"*\"},{\"POS\": \"VERB\", \"OP\": \"+\"},{\"POS\": \"PART\", \"OP\": \"*\"}]\n",
        "\n",
        "counter=0\n",
        "for tripla in triples:\n",
        "  counter+=1\n",
        "  f.write(\"Triple n°\"+ str(counter)+ ' - '+ str(tripla)+\"\\n\\n\")\n",
        "  print(\"Triple n°\"+ str(counter)+ ' - '+ str(tripla)+\"\\n\")\n",
        "\n",
        "  ###SUBJECT\n",
        "  f.write('Subject: '+ str(tripla['subject']) +' - '+ str(dbpedia_query(tripla['subject']))+\"\\n\\n\")\n",
        "  print('Subject: '+ str(tripla['subject']) +' - '+ str(dbpedia_query(tripla['subject']))+\"\\n\")\n",
        "  ###RELATION\n",
        "  if tripla['relation'] in contractions:\n",
        "    tripla['relation']=contractions[tripla['relation']] \n",
        "  lemma = lemmatizer.lemmatize(tripla['relation'], pos=wordnet.VERB)\n",
        "\n",
        "  sentence_doc = textacy.make_spacy_doc(tripla['relation'], lang='en_core_web_sm')\n",
        "  verb_phrases = list(textacy.extract.matches.token_matches(sentence_doc, verbPattern))\n",
        "  for chunk in verb_phrases:\n",
        "    lemma = lemmatizer.lemmatize(chunk.text, pos=wordnet.VERB)\n",
        "    try:\n",
        "      syn = wordnet.synsets(lemma,pos=wordnet.VERB)[0].definition()\n",
        "      f.write(\"Relation: \"+ str(lemma) +' - '+ str(syn)+\"\\n\\n\")\n",
        "      print(\"Relation: \"+ str(lemma) +' - '+ str(syn)+\"\\n\")\n",
        "    except:\n",
        "      f.write(\"Relation: \"+ str(lemma)+ \"No definition found!\"+\"\\n\\n\")\n",
        "      print(\"Relation: \"+ str(lemma)+ \"No definition found!\"+\"\\n\")\n",
        "  if lemma==\"be\":\n",
        "    syn = wordnet.synsets(lemma,pos=wordnet.VERB)[0].definition()\n",
        "    f.write(\"Relation: \"+ str(lemma)+' - '+ str(syn)+\"\\n\\n\")\n",
        "    print(\"Relation: \"+ str(lemma)+' - '+ str(syn)+\"\\n\")\n",
        "  ###OBJECT\n",
        "  f.write('Object: '+ str(tripla['object']) +' - '+ str(dbpedia_query(tripla['object']))+\"\\n\\n\")\n",
        "  print('Object: '+ str(tripla['object']) +' - '+ str(dbpedia_query(tripla['object']))+\"\\n\")\n",
        "  f.write(\"-------------------------------------------------------------------------------------------------------------------------------\\n\\n\")\n",
        "  print(\"-------------------------------------------------------------------------------------------------------------------------------\\n\")\n",
        "\n",
        "\n",
        "f.close()\n"
      ],
      "metadata": {
        "id": "TpiE5fJxWSCx",
        "colab": {
          "base_uri": "https://localhost:8080/"
        },
        "outputId": "fcac19b7-0676-495e-e87e-d4b14246b0b6"
      },
      "execution_count": null,
      "outputs": [
        {
          "output_type": "stream",
          "name": "stdout",
          "text": [
            "Triple n°1 - {'subject': '23 July 1989', 'relation': 'child of', 'object': 'Marcia Jeannine Gresham'}\n",
            "\n",
            "Subject: 23 July 1989 - ['http://dbpedia.org/resource/Category:23', 'http://dbpedia.org/resource/July', 'http://dbpedia.org/resource/1989']\n",
            "\n",
            "Object: Marcia Jeannine Gresham - ['http://dbpedia.org/resource/Marcia', 'http://dbpedia.org/resource/Jeannine', 'http://dbpedia.org/resource/Gresham']\n",
            "\n",
            "-------------------------------------------------------------------------------------------------------------------------------\n",
            "\n",
            "Triple n°2 - {'subject': 'Daniel Radcliffe', 'relation': 'was', 'object': \"born at Queen Charlotte 's in Hammersmith\"}\n",
            "\n",
            "Subject: Daniel Radcliffe - http://dbpedia.org/resource/Daniel_radcliffe\n",
            "\n",
            "Relation: be - have the quality of being; (copula, used with an adjective or a predicate noun)\n",
            "\n",
            "Object: born at Queen Charlotte 's in Hammersmith - ['http://dbpedia.org/resource/Born', 'http://dbpedia.org/resource/At', 'http://dbpedia.org/resource/Queen', 'http://dbpedia.org/resource/Category:Charlotte', \"http://dbpedia.org/resource/'s\", 'http://dbpedia.org/resource/In', 'http://dbpedia.org/resource/Hammersmith']\n",
            "\n",
            "-------------------------------------------------------------------------------------------------------------------------------\n",
            "\n",
            "Triple n°3 - {'subject': 'Daniel Radcliffe', 'relation': 'was born in', 'object': 'England'}\n",
            "\n",
            "Subject: Daniel Radcliffe - http://dbpedia.org/resource/Daniel_radcliffe\n",
            "\n",
            "Relation: bear - have\n",
            "\n",
            "Object: England - http://dbpedia.org/resource/England\n",
            "\n",
            "-------------------------------------------------------------------------------------------------------------------------------\n",
            "\n",
            "Triple n°4 - {'subject': 'Daniel Radcliffe', 'relation': 'was born in', 'object': 'Hammersmith'}\n",
            "\n",
            "Subject: Daniel Radcliffe - http://dbpedia.org/resource/Daniel_radcliffe\n",
            "\n",
            "Relation: bear - have\n",
            "\n",
            "Object: Hammersmith - http://dbpedia.org/resource/Hammersmith\n",
            "\n",
            "-------------------------------------------------------------------------------------------------------------------------------\n",
            "\n",
            "Triple n°5 - {'subject': 'Hammersmith', 'relation': 'England on', 'object': '23 July 1989'}\n",
            "\n",
            "Subject: Hammersmith - http://dbpedia.org/resource/Hammersmith\n",
            "\n",
            "Object: 23 July 1989 - ['http://dbpedia.org/resource/Category:23', 'http://dbpedia.org/resource/July', 'http://dbpedia.org/resource/1989']\n",
            "\n",
            "-------------------------------------------------------------------------------------------------------------------------------\n",
            "\n",
            "Triple n°6 - {'subject': 'Daniel Radcliffe', 'relation': 'was', 'object': 'born'}\n",
            "\n",
            "Subject: Daniel Radcliffe - http://dbpedia.org/resource/Daniel_radcliffe\n",
            "\n",
            "Relation: be - have the quality of being; (copula, used with an adjective or a predicate noun)\n",
            "\n",
            "Object: born - http://dbpedia.org/resource/Born\n",
            "\n",
            "-------------------------------------------------------------------------------------------------------------------------------\n",
            "\n",
            "Triple n°7 - {'subject': 'Daniel Radcliffe', 'relation': 'was born in', 'object': 'London'}\n",
            "\n",
            "Subject: Daniel Radcliffe - http://dbpedia.org/resource/Daniel_radcliffe\n",
            "\n",
            "Relation: bear - have\n",
            "\n",
            "Object: London - http://dbpedia.org/resource/London\n",
            "\n",
            "-------------------------------------------------------------------------------------------------------------------------------\n",
            "\n",
            "Triple n°8 - {'subject': 'Daniel Radcliffe', 'relation': 'was born in', 'object': 'England on 23 July 1989'}\n",
            "\n",
            "Subject: Daniel Radcliffe - http://dbpedia.org/resource/Daniel_radcliffe\n",
            "\n",
            "Relation: bear - have\n",
            "\n",
            "Object: England on 23 July 1989 - ['http://dbpedia.org/resource/England', 'http://dbpedia.org/resource/On', 'http://dbpedia.org/resource/Category:23', 'http://dbpedia.org/resource/July', 'http://dbpedia.org/resource/1989']\n",
            "\n",
            "-------------------------------------------------------------------------------------------------------------------------------\n",
            "\n",
            "Triple n°9 - {'subject': 'Daniel Radcliffe', 'relation': 'was born at', 'object': 'at Queen Charlotte'}\n",
            "\n",
            "Subject: Daniel Radcliffe - http://dbpedia.org/resource/Daniel_radcliffe\n",
            "\n",
            "Relation: bear - have\n",
            "\n",
            "Object: at Queen Charlotte - ['http://dbpedia.org/resource/At', 'http://dbpedia.org/resource/Queen', 'http://dbpedia.org/resource/Category:Charlotte']\n",
            "\n",
            "-------------------------------------------------------------------------------------------------------------------------------\n",
            "\n",
            "Triple n°10 - {'subject': 'His Jewish mother', 'relation': 'was', 'object': 'born'}\n",
            "\n",
            "Subject: His Jewish mother - ['http://dbpedia.org/resource/His', 'http://dbpedia.org/resource/Jewish', 'http://dbpedia.org/resource/Mother']\n",
            "\n",
            "Relation: be - have the quality of being; (copula, used with an adjective or a predicate noun)\n",
            "\n",
            "Object: born - http://dbpedia.org/resource/Born\n",
            "\n",
            "-------------------------------------------------------------------------------------------------------------------------------\n",
            "\n",
            "Triple n°11 - {'subject': 'His mother', 'relation': 'was raised in', 'object': 'town'}\n",
            "\n",
            "Subject: His mother - ['http://dbpedia.org/resource/His', 'http://dbpedia.org/resource/Mother']\n",
            "\n",
            "Relation: raise - raise the level or amount of something\n",
            "\n",
            "Object: town - http://dbpedia.org/resource/Town\n",
            "\n",
            "-------------------------------------------------------------------------------------------------------------------------------\n",
            "\n",
            "Triple n°12 - {'subject': 'His mother', 'relation': 'was raised in', 'object': 'town of Westcliff'}\n",
            "\n",
            "Subject: His mother - ['http://dbpedia.org/resource/His', 'http://dbpedia.org/resource/Mother']\n",
            "\n",
            "Relation: raise - raise the level or amount of something\n",
            "\n",
            "Object: town of Westcliff - ['http://dbpedia.org/resource/Town', 'http://dbpedia.org/resource/Of', 'http://dbpedia.org/resource/Westcliff']\n",
            "\n",
            "-------------------------------------------------------------------------------------------------------------------------------\n",
            "\n",
            "Triple n°13 - {'subject': 'His mother', 'relation': 'was raised in', 'object': 'English town of Westcliff on Sea'}\n",
            "\n",
            "Subject: His mother - ['http://dbpedia.org/resource/His', 'http://dbpedia.org/resource/Mother']\n",
            "\n",
            "Relation: raise - raise the level or amount of something\n",
            "\n",
            "Object: English town of Westcliff on Sea - ['http://dbpedia.org/resource/English', 'http://dbpedia.org/resource/Town', 'http://dbpedia.org/resource/Of', 'http://dbpedia.org/resource/Westcliff', 'http://dbpedia.org/resource/On', 'http://dbpedia.org/resource/Sea']\n",
            "\n",
            "-------------------------------------------------------------------------------------------------------------------------------\n",
            "\n",
            "Triple n°14 - {'subject': 'His Jewish mother', 'relation': 'traced', 'object': 'her ancestry'}\n",
            "\n",
            "Subject: His Jewish mother - ['http://dbpedia.org/resource/His', 'http://dbpedia.org/resource/Jewish', 'http://dbpedia.org/resource/Mother']\n",
            "\n",
            "Relation: trace - follow, discover, or ascertain the course of development of something\n",
            "\n",
            "Object: her ancestry - ['http://dbpedia.org/resource/Her', 'http://dbpedia.org/resource/Ancestry']\n",
            "\n",
            "-------------------------------------------------------------------------------------------------------------------------------\n",
            "\n",
            "Triple n°15 - {'subject': 'His mother', 'relation': 'was born in', 'object': 'South Africa'}\n",
            "\n",
            "Subject: His mother - ['http://dbpedia.org/resource/His', 'http://dbpedia.org/resource/Mother']\n",
            "\n",
            "Relation: bear - have\n",
            "\n",
            "Object: South Africa - http://dbpedia.org/resource/South_africa\n",
            "\n",
            "-------------------------------------------------------------------------------------------------------------------------------\n",
            "\n",
            "Triple n°16 - {'subject': 'His Jewish mother', 'relation': 'was raised in', 'object': 'town'}\n",
            "\n",
            "Subject: His Jewish mother - ['http://dbpedia.org/resource/His', 'http://dbpedia.org/resource/Jewish', 'http://dbpedia.org/resource/Mother']\n",
            "\n",
            "Relation: raise - raise the level or amount of something\n",
            "\n",
            "Object: town - http://dbpedia.org/resource/Town\n",
            "\n",
            "-------------------------------------------------------------------------------------------------------------------------------\n",
            "\n",
            "Triple n°17 - {'subject': 'His Jewish mother', 'relation': 'was raised in', 'object': 'English town of Westcliff on Sea'}\n",
            "\n",
            "Subject: His Jewish mother - ['http://dbpedia.org/resource/His', 'http://dbpedia.org/resource/Jewish', 'http://dbpedia.org/resource/Mother']\n",
            "\n",
            "Relation: raise - raise the level or amount of something\n",
            "\n",
            "Object: English town of Westcliff on Sea - ['http://dbpedia.org/resource/English', 'http://dbpedia.org/resource/Town', 'http://dbpedia.org/resource/Of', 'http://dbpedia.org/resource/Westcliff', 'http://dbpedia.org/resource/On', 'http://dbpedia.org/resource/Sea']\n",
            "\n",
            "-------------------------------------------------------------------------------------------------------------------------------\n",
            "\n",
            "Triple n°18 - {'subject': 'His mother', 'relation': 'was raised in', 'object': 'town on Sea'}\n",
            "\n",
            "Subject: His mother - ['http://dbpedia.org/resource/His', 'http://dbpedia.org/resource/Mother']\n",
            "\n",
            "Relation: raise - raise the level or amount of something\n",
            "\n",
            "Object: town on Sea - ['http://dbpedia.org/resource/Town', 'http://dbpedia.org/resource/On', 'http://dbpedia.org/resource/Sea']\n",
            "\n",
            "-------------------------------------------------------------------------------------------------------------------------------\n",
            "\n",
            "Triple n°19 - {'subject': 'His mother', 'relation': 'was raised in', 'object': 'town of Westcliff on Sea'}\n",
            "\n",
            "Subject: His mother - ['http://dbpedia.org/resource/His', 'http://dbpedia.org/resource/Mother']\n",
            "\n",
            "Relation: raise - raise the level or amount of something\n",
            "\n",
            "Object: town of Westcliff on Sea - ['http://dbpedia.org/resource/Town', 'http://dbpedia.org/resource/Of', 'http://dbpedia.org/resource/Westcliff', 'http://dbpedia.org/resource/On', 'http://dbpedia.org/resource/Sea']\n",
            "\n",
            "-------------------------------------------------------------------------------------------------------------------------------\n",
            "\n",
            "Triple n°20 - {'subject': 'His Jewish mother', 'relation': 'was born in', 'object': 'South Africa'}\n",
            "\n",
            "Subject: His Jewish mother - ['http://dbpedia.org/resource/His', 'http://dbpedia.org/resource/Jewish', 'http://dbpedia.org/resource/Mother']\n",
            "\n",
            "Relation: bear - have\n",
            "\n",
            "Object: South Africa - http://dbpedia.org/resource/South_africa\n",
            "\n",
            "-------------------------------------------------------------------------------------------------------------------------------\n",
            "\n",
            "Triple n°21 - {'subject': 'His Jewish mother', 'relation': 'was raised in', 'object': 'English town'}\n",
            "\n",
            "Subject: His Jewish mother - ['http://dbpedia.org/resource/His', 'http://dbpedia.org/resource/Jewish', 'http://dbpedia.org/resource/Mother']\n",
            "\n",
            "Relation: raise - raise the level or amount of something\n",
            "\n",
            "Object: English town - ['http://dbpedia.org/resource/English', 'http://dbpedia.org/resource/Town']\n",
            "\n",
            "-------------------------------------------------------------------------------------------------------------------------------\n",
            "\n",
            "Triple n°22 - {'subject': 'His Jewish mother', 'relation': 'was raised in', 'object': 'town of Westcliff on Sea'}\n",
            "\n",
            "Subject: His Jewish mother - ['http://dbpedia.org/resource/His', 'http://dbpedia.org/resource/Jewish', 'http://dbpedia.org/resource/Mother']\n",
            "\n",
            "Relation: raise - raise the level or amount of something\n",
            "\n",
            "Object: town of Westcliff on Sea - ['http://dbpedia.org/resource/Town', 'http://dbpedia.org/resource/Of', 'http://dbpedia.org/resource/Westcliff', 'http://dbpedia.org/resource/On', 'http://dbpedia.org/resource/Sea']\n",
            "\n",
            "-------------------------------------------------------------------------------------------------------------------------------\n",
            "\n",
            "Triple n°23 - {'subject': 'His Jewish mother', 'relation': 'was raised in', 'object': 'English town on Sea'}\n",
            "\n",
            "Subject: His Jewish mother - ['http://dbpedia.org/resource/His', 'http://dbpedia.org/resource/Jewish', 'http://dbpedia.org/resource/Mother']\n",
            "\n",
            "Relation: raise - raise the level or amount of something\n",
            "\n",
            "Object: English town on Sea - ['http://dbpedia.org/resource/English', 'http://dbpedia.org/resource/Town', 'http://dbpedia.org/resource/On', 'http://dbpedia.org/resource/Sea']\n",
            "\n",
            "-------------------------------------------------------------------------------------------------------------------------------\n",
            "\n",
            "Triple n°24 - {'subject': 'His mother', 'relation': 'was', 'object': 'born'}\n",
            "\n",
            "Subject: His mother - ['http://dbpedia.org/resource/His', 'http://dbpedia.org/resource/Mother']\n",
            "\n",
            "Relation: be - have the quality of being; (copula, used with an adjective or a predicate noun)\n",
            "\n",
            "Object: born - http://dbpedia.org/resource/Born\n",
            "\n",
            "-------------------------------------------------------------------------------------------------------------------------------\n",
            "\n",
            "Triple n°25 - {'subject': 'His Jewish mother', 'relation': 'was', 'object': 'raised'}\n",
            "\n",
            "Subject: His Jewish mother - ['http://dbpedia.org/resource/His', 'http://dbpedia.org/resource/Jewish', 'http://dbpedia.org/resource/Mother']\n",
            "\n",
            "Relation: be - have the quality of being; (copula, used with an adjective or a predicate noun)\n",
            "\n",
            "Object: raised - http://dbpedia.org/resource/Raised\n",
            "\n",
            "-------------------------------------------------------------------------------------------------------------------------------\n",
            "\n",
            "Triple n°26 - {'subject': 'His Jewish mother', 'relation': 'was raised in', 'object': 'town on Sea'}\n",
            "\n",
            "Subject: His Jewish mother - ['http://dbpedia.org/resource/His', 'http://dbpedia.org/resource/Jewish', 'http://dbpedia.org/resource/Mother']\n",
            "\n",
            "Relation: raise - raise the level or amount of something\n",
            "\n",
            "Object: town on Sea - ['http://dbpedia.org/resource/Town', 'http://dbpedia.org/resource/On', 'http://dbpedia.org/resource/Sea']\n",
            "\n",
            "-------------------------------------------------------------------------------------------------------------------------------\n",
            "\n",
            "Triple n°27 - {'subject': 'His Jewish mother', 'relation': 'was raised in', 'object': 'English town of Westcliff'}\n",
            "\n",
            "Subject: His Jewish mother - ['http://dbpedia.org/resource/His', 'http://dbpedia.org/resource/Jewish', 'http://dbpedia.org/resource/Mother']\n",
            "\n",
            "Relation: raise - raise the level or amount of something\n",
            "\n",
            "Object: English town of Westcliff - ['http://dbpedia.org/resource/English', 'http://dbpedia.org/resource/Town', 'http://dbpedia.org/resource/Of', 'http://dbpedia.org/resource/Westcliff']\n",
            "\n",
            "-------------------------------------------------------------------------------------------------------------------------------\n",
            "\n",
            "Triple n°28 - {'subject': 'His Jewish mother', 'relation': 'was raised in', 'object': 'town of Westcliff'}\n",
            "\n",
            "Subject: His Jewish mother - ['http://dbpedia.org/resource/His', 'http://dbpedia.org/resource/Jewish', 'http://dbpedia.org/resource/Mother']\n",
            "\n",
            "Relation: raise - raise the level or amount of something\n",
            "\n",
            "Object: town of Westcliff - ['http://dbpedia.org/resource/Town', 'http://dbpedia.org/resource/Of', 'http://dbpedia.org/resource/Westcliff']\n",
            "\n",
            "-------------------------------------------------------------------------------------------------------------------------------\n",
            "\n",
            "Triple n°29 - {'subject': 'His mother', 'relation': 'was raised in', 'object': 'English town on Sea'}\n",
            "\n",
            "Subject: His mother - ['http://dbpedia.org/resource/His', 'http://dbpedia.org/resource/Mother']\n",
            "\n",
            "Relation: raise - raise the level or amount of something\n",
            "\n",
            "Object: English town on Sea - ['http://dbpedia.org/resource/English', 'http://dbpedia.org/resource/Town', 'http://dbpedia.org/resource/On', 'http://dbpedia.org/resource/Sea']\n",
            "\n",
            "-------------------------------------------------------------------------------------------------------------------------------\n",
            "\n",
            "Triple n°30 - {'subject': 'His mother', 'relation': 'traced', 'object': 'her ancestry'}\n",
            "\n",
            "Subject: His mother - ['http://dbpedia.org/resource/His', 'http://dbpedia.org/resource/Mother']\n",
            "\n",
            "Relation: trace - follow, discover, or ascertain the course of development of something\n",
            "\n",
            "Object: her ancestry - ['http://dbpedia.org/resource/Her', 'http://dbpedia.org/resource/Ancestry']\n",
            "\n",
            "-------------------------------------------------------------------------------------------------------------------------------\n",
            "\n",
            "Triple n°31 - {'subject': 'His mother', 'relation': 'was raised in', 'object': 'English town'}\n",
            "\n",
            "Subject: His mother - ['http://dbpedia.org/resource/His', 'http://dbpedia.org/resource/Mother']\n",
            "\n",
            "Relation: raise - raise the level or amount of something\n",
            "\n",
            "Object: English town - ['http://dbpedia.org/resource/English', 'http://dbpedia.org/resource/Town']\n",
            "\n",
            "-------------------------------------------------------------------------------------------------------------------------------\n",
            "\n",
            "Triple n°32 - {'subject': 'His mother', 'relation': 'was raised in', 'object': 'English town of Westcliff'}\n",
            "\n",
            "Subject: His mother - ['http://dbpedia.org/resource/His', 'http://dbpedia.org/resource/Mother']\n",
            "\n",
            "Relation: raise - raise the level or amount of something\n",
            "\n",
            "Object: English town of Westcliff - ['http://dbpedia.org/resource/English', 'http://dbpedia.org/resource/Town', 'http://dbpedia.org/resource/Of', 'http://dbpedia.org/resource/Westcliff']\n",
            "\n",
            "-------------------------------------------------------------------------------------------------------------------------------\n",
            "\n",
            "Triple n°33 - {'subject': 'His mother', 'relation': 'was', 'object': 'raised'}\n",
            "\n",
            "Subject: His mother - ['http://dbpedia.org/resource/His', 'http://dbpedia.org/resource/Mother']\n",
            "\n",
            "Relation: be - have the quality of being; (copula, used with an adjective or a predicate noun)\n",
            "\n",
            "Object: raised - http://dbpedia.org/resource/Raised\n",
            "\n",
            "-------------------------------------------------------------------------------------------------------------------------------\n",
            "\n"
          ]
        }
      ]
    }
  ]
}